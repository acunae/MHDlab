{
 "cells": [
  {
   "cell_type": "code",
   "execution_count": 1,
   "metadata": {},
   "outputs": [],
   "source": [
    "import os\n",
    "import numpy as np\n",
    "import matplotlib as mpl\n",
    "import matplotlib.pyplot as plt\n",
    "import datetime\n",
    "from datetime import timedelta as td\n",
    "import time\n",
    "import TDMS_MHD as MHD\n",
    "import pandas as pd\n",
    "%matplotlib inline\n",
    "\n",
    "\n",
    "class VaporTubes(MHD.TDMS,MHD.TDMS_pd):\n",
    "    def __init__(self, ):\n",
    "        MHD.TDMS.__init__(self) \n",
    "        MHD.TDMS_pd.__init__(self)   \n",
    "    \n",
    "\n",
    "    \n",
    "    \n"
   ]
  },
  {
   "cell_type": "code",
   "execution_count": 2,
   "metadata": {},
   "outputs": [],
   "source": [
    "a = VaporTubes()\n",
    "a.set_pathnames(\"C:\\\\Users\\\\aspit\\\\OneDrive\\\\Data\\\\Excimer\\\\2018-03-07\")"
   ]
  },
  {
   "cell_type": "code",
   "execution_count": 3,
   "metadata": {},
   "outputs": [
    {
     "name": "stdout",
     "output_type": "stream",
     "text": [
      "[ 'C:\\\\Users\\\\aspit\\\\OneDrive\\\\Data\\\\Excimer\\\\2018-03-07\\\\Run1_Powermeter.tdms'\n",
      " 'C:\\\\Users\\\\aspit\\\\OneDrive\\\\Data\\\\Excimer\\\\2018-03-07\\\\Run2_Powermeter.tdms'\n",
      " 'C:\\\\Users\\\\aspit\\\\OneDrive\\\\Data\\\\Excimer\\\\2018-03-07\\\\Run3_Powermeter.tdms'\n",
      " 'C:\\\\Users\\\\aspit\\\\OneDrive\\\\Data\\\\Excimer\\\\2018-03-07\\\\Run3_Powermeter_60C.tdms'\n",
      " 'C:\\\\Users\\\\aspit\\\\OneDrive\\\\Data\\\\Excimer\\\\2018-03-07\\\\Run3_Powermeter_60C_2.tdms'\n",
      " 'C:\\\\Users\\\\aspit\\\\OneDrive\\\\Data\\\\Excimer\\\\2018-03-07\\\\Test1.tdms'\n",
      " 'C:\\\\Users\\\\aspit\\\\OneDrive\\\\Data\\\\Excimer\\\\2018-03-07\\\\Test2_60C.tdms'\n",
      " 'C:\\\\Users\\\\aspit\\\\OneDrive\\\\Data\\\\Excimer\\\\2018-03-07\\\\Test2_60C_2.tdms'\n",
      " 'C:\\\\Users\\\\aspit\\\\OneDrive\\\\Data\\\\Excimer\\\\2018-03-07\\\\Test2_60C_gatedelay.tdms']\n"
     ]
    }
   ],
   "source": [
    "print(a.pathnames)"
   ]
  },
  {
   "cell_type": "code",
   "execution_count": 4,
   "metadata": {
    "collapsed": true
   },
   "outputs": [],
   "source": [
    "filepath = a.pathnames[8]\n",
    "a.import_data(filepath)\n",
    "file1 = a.imports[filepath]\n",
    "#wl = file1.object(\"Wavelength array\",\"Wavelength_2\").data"
   ]
  },
  {
   "cell_type": "code",
   "execution_count": 5,
   "metadata": {},
   "outputs": [
    {
     "data": {
      "text/plain": [
       "['Common',\n",
       " 'Wavelength array',\n",
       " 'Gate Delay Arrays',\n",
       " 'Integrated emission',\n",
       " 'Raw_Capture_1',\n",
       " 'Raw_Capture_2',\n",
       " 'Raw_Capture_3']"
      ]
     },
     "execution_count": 5,
     "metadata": {},
     "output_type": "execute_result"
    }
   ],
   "source": [
    "file1.groups()"
   ]
  },
  {
   "cell_type": "code",
   "execution_count": 6,
   "metadata": {
    "collapsed": true
   },
   "outputs": [],
   "source": [
    "a.get_data_pdframe(file1,'Raw_Capture_2')\n",
    "a.get_data_pdframe(file1,'Raw_Capture_3')"
   ]
  },
  {
   "cell_type": "code",
   "execution_count": 7,
   "metadata": {},
   "outputs": [
    {
     "data": {
      "text/plain": [
       "[<matplotlib.lines.Line2D at 0x1765a8126a0>,\n",
       " <matplotlib.lines.Line2D at 0x1765a8128d0>,\n",
       " <matplotlib.lines.Line2D at 0x1765a812a20>,\n",
       " <matplotlib.lines.Line2D at 0x1765a812b70>,\n",
       " <matplotlib.lines.Line2D at 0x1765a812cc0>]"
      ]
     },
     "execution_count": 7,
     "metadata": {},
     "output_type": "execute_result"
    },
    {
     "data": {
      "image/png": "[encoded data removed]",
      "text/plain": [
       "<matplotlib.figure.Figure at 0x17658a38630>"
      ]
     },
     "metadata": {},
     "output_type": "display_data"
    }
   ],
   "source": [
    "plt.plot(a.datapdframes['Raw_Capture_2'])\n"
   ]
  }
 ],
 "metadata": {
  "kernelspec": {
   "display_name": "Python 3",
   "language": "python",
   "name": "python3"
  },
  "language_info": {
   "codemirror_mode": {
    "name": "ipython",
    "version": 3
   },
   "file_extension": ".py",
   "mimetype": "text/x-python",
   "name": "python",
   "nbconvert_exporter": "python",
   "pygments_lexer": "ipython3",
   "version": "3.6.3"
  }
 },
 "nbformat": 4,
 "nbformat_minor": 2
}
