{
 "cells": [
  {
   "cell_type": "code",
   "execution_count": 1,
   "metadata": {},
   "outputs": [
    {
     "ename": "ModuleNotFoundError",
     "evalue": "No module named 'TDMS_MHD'",
     "output_type": "error",
     "traceback": [
      "\u001b[1;31m---------------------------------------------------------------------------\u001b[0m",
      "\u001b[1;31mModuleNotFoundError\u001b[0m                       Traceback (most recent call last)",
      "\u001b[1;32m<ipython-input-1-d3d41c475753>\u001b[0m in \u001b[0;36m<module>\u001b[1;34m()\u001b[0m\n\u001b[0;32m      6\u001b[0m \u001b[1;32mfrom\u001b[0m \u001b[0mdatetime\u001b[0m \u001b[1;32mimport\u001b[0m \u001b[0mtimedelta\u001b[0m \u001b[1;32mas\u001b[0m \u001b[0mtd\u001b[0m\u001b[1;33m\u001b[0m\u001b[0m\n\u001b[0;32m      7\u001b[0m \u001b[1;32mimport\u001b[0m \u001b[0mtime\u001b[0m\u001b[1;33m\u001b[0m\u001b[0m\n\u001b[1;32m----> 8\u001b[1;33m \u001b[1;32mimport\u001b[0m \u001b[0mTDMS_MHD\u001b[0m \u001b[1;32mas\u001b[0m \u001b[0mMHD\u001b[0m\u001b[1;33m\u001b[0m\u001b[0m\n\u001b[0m\u001b[0;32m      9\u001b[0m \u001b[1;32mimport\u001b[0m \u001b[0mpandas\u001b[0m \u001b[1;32mas\u001b[0m \u001b[0mpd\u001b[0m\u001b[1;33m\u001b[0m\u001b[0m\n\u001b[0;32m     10\u001b[0m \u001b[0mget_ipython\u001b[0m\u001b[1;33m(\u001b[0m\u001b[1;33m)\u001b[0m\u001b[1;33m.\u001b[0m\u001b[0mmagic\u001b[0m\u001b[1;33m(\u001b[0m\u001b[1;34m'matplotlib inline'\u001b[0m\u001b[1;33m)\u001b[0m\u001b[1;33m\u001b[0m\u001b[0m\n",
      "\u001b[1;31mModuleNotFoundError\u001b[0m: No module named 'TDMS_MHD'"
     ]
    }
   ],
   "source": [
    "import os\n",
    "import numpy as np\n",
    "import matplotlib as mpl\n",
    "import matplotlib.pyplot as plt\n",
    "import datetime\n",
    "from datetime import timedelta as td\n",
    "import time\n",
    "import TDMS_MHD as MHD\n",
    "import pandas as pd\n",
    "%matplotlib inline\n",
    "\n",
    "mpl.rcParams.update({'font.size': 18})\n",
    "\n",
    "\n",
    "class VaporTubes(MHD.TDMS,MHD.TDMS_pd):\n",
    "    def __init__(self, ):\n",
    "        MHD.TDMS.__init__(self) \n",
    "        MHD.TDMS_pd.__init__(self)   \n",
    "    \n",
    "def find_nearest(a, a0):\n",
    "    \"Element in nd array `a` closest to the scalar value `a0`\"\n",
    "    idx = np.abs(a - a0).argmin()\n",
    "    return idx\n",
    "    \n",
    "    \n"
   ]
  },
  {
   "cell_type": "code",
   "execution_count": null,
   "metadata": {},
   "outputs": [],
   "source": [
    "Run3 = VaporTubes()\n",
    "laserprofile = VaporTubes()\n",
    "Run3.set_pathnames(\"C:\\\\Users\\\\aspit\\\\OneDrive\\\\Data\\\\Excimer\\\\2018-03-15\")\n",
    "laserprofile.set_pathnames(\"C:\\\\Users\\\\aspit\\\\OneDrive\\\\Data\\\\2017-10-23\")\n",
    "print(Run3.pathnames)"
   ]
  },
  {
   "cell_type": "code",
   "execution_count": null,
   "metadata": {
    "collapsed": true
   },
   "outputs": [],
   "source": [
    "filepath = Run3.pathnames['Run1_Rb_sequential5.tdms']\n",
    "Run3.import_data(filepath)\n",
    "file1 = Run3.imports[filepath]\n",
    "\n",
    "filepath_laser = laserprofile.pathnames[0]\n",
    "laserprofile.import_data(filepath_laser)\n",
    "file_laser = laserprofile.imports[filepath_laser]"
   ]
  },
  {
   "cell_type": "code",
   "execution_count": null,
   "metadata": {},
   "outputs": [],
   "source": [
    "file1.groups()"
   ]
  },
  {
   "cell_type": "code",
   "execution_count": null,
   "metadata": {
    "collapsed": true
   },
   "outputs": [],
   "source": [
    "#Pull in relevant groups\n",
    "timearrays = Run3.get_data_pdframe(file1,'Gate Delay Arrays')\n",
    "wl = Run3.get_data_pdframe(file1,'Wavelength array')\n",
    "df1 = Run3.get_data_pdframe(file1,'Raw_Capture_1')\n",
    "laser_common = laserprofile.get_data_pdframe(file_laser,'Raw')\n",
    "laser_data = laserprofile.get_data_pdframe(file_laser,'Average')"
   ]
  },
  {
   "cell_type": "code",
   "execution_count": null,
   "metadata": {
    "collapsed": true
   },
   "outputs": [],
   "source": [
    "\n",
    "wavelength = wl['Wavelength_1'].as_matrix()\n",
    "time = timearrays['Gate Delay1'].as_matrix()\n",
    "time = time[~np.isnan(time)]\n",
    "\n",
    "laser_time = laser_common['Time1']\n",
    "laser_data = laser_data['Mean']*40"
   ]
  },
  {
   "cell_type": "code",
   "execution_count": null,
   "metadata": {
    "collapsed": true
   },
   "outputs": [],
   "source": [
    "idx_peak1_l = find_nearest(wavelength,778)\n",
    "idx_peak1_r = find_nearest(wavelength,780.5)\n",
    "\n",
    "idx_peak2_l = find_nearest(wavelength,792)\n",
    "idx_peak2_r = find_nearest(wavelength,796)\n",
    "\n",
    "wavelength_peak1 = wavelength[idx_peak1_l:idx_peak1_r]\n",
    "wavelength_peak2 = wavelength[idx_peak2_l:idx_peak2_r]\n",
    "\n",
    "data_peak1 = df1[idx_peak1_l:idx_peak1_r]\n",
    "data_peak2 = df1[idx_peak2_l:idx_peak2_r]"
   ]
  },
  {
   "cell_type": "code",
   "execution_count": null,
   "metadata": {
    "collapsed": true
   },
   "outputs": [],
   "source": [
    "avg_peak1 = []\n",
    "avg_peak2 = []\n",
    "\n",
    "for frame in data_peak1:\n",
    "    maximum = data_peak1[frame].max()\n",
    "    avg_peak1 = np.append(avg_peak1, maximum)\n",
    "    \n",
    "for frame in data_peak2:\n",
    "    maximum = data_peak2[frame].max()\n",
    "    avg_peak2 = np.append(avg_peak2, maximum)\n"
   ]
  },
  {
   "cell_type": "code",
   "execution_count": null,
   "metadata": {
    "collapsed": true
   },
   "outputs": [],
   "source": [
    "\n",
    "offset_time = 870\n",
    "\n",
    "time_off = time - offset_time\n",
    "laser_time_off = laser_time - offset_time\n",
    "\n",
    "avg_peak1_norm = avg_peak1/avg_peak1.max()\n",
    "avg_peak2_norm = avg_peak2/avg_peak2.max()\n",
    "laser_data_norm = laser_data/laser_data.max()"
   ]
  },
  {
   "cell_type": "code",
   "execution_count": null,
   "metadata": {},
   "outputs": [],
   "source": [
    "from matplotlib.ticker import ScalarFormatter\n",
    "\n",
    "\n",
    "fig, ax1 = plt.subplots(figsize = (8,6))\n",
    "ln1 = ax1.plot(time_off, avg_peak1_norm, 'b.', label = '780 nm peak')\n",
    "ln2 = ax1.plot(time_off, avg_peak2_norm, 'g.', label = '795 nm peak')\n",
    "ax1.set_xlabel(\"Gate Delay (ns)\")\n",
    "# Make the y-axis label, ticks and tick labels match the line color.\n",
    "ax1.set_ylabel(\"PL Intensity (Normalized)\")\n",
    "ax1.tick_params('y')\n",
    "ax1.loglog\n",
    "\n",
    "\n",
    "plt.legend()\n",
    "ax2 = ax1.twinx()\n",
    "\n",
    "ln3 = ax2.plot(laser_time_off, laser_data_norm, 'r', label = 'Laser Intensity')\n",
    "ax2.set_ylabel(\"Laser Intensity (Normalized)\")\n",
    "ax2.tick_params('y')\n",
    "\n",
    "plt.title(\"Rubidium Vapor PL\")\n",
    "fig.tight_layout()\n",
    "\n",
    "lns = ln1+ln2+ln3\n",
    "labs = [l.get_label() for l in lns]\n",
    "ax1.legend(lns, labs, loc=1)\n",
    "\n",
    "ax2.set_yscale('log')\n",
    "ax1.set_yscale('log')\n",
    "\n",
    "#ax2.yaxis.set_major_formatter(ScalarFormatter())\n",
    "\n",
    "plt.show()\n",
    "\n"
   ]
  },
  {
   "cell_type": "code",
   "execution_count": null,
   "metadata": {},
   "outputs": [],
   "source": [
    "\n",
    "\"\"\"\n",
    "Matplotlib Animation Example\n",
    "\n",
    "author: Jake Vanderplas\n",
    "email: vanderplas@astro.washington.edu\n",
    "website: http://jakevdp.github.com\n",
    "license: BSD\n",
    "Please feel free to use and modify this, but keep the above information. Thanks!\n",
    "\"\"\"\n",
    "\n",
    "import numpy as np\n",
    "from matplotlib import pyplot as plt\n",
    "\n",
    "\n",
    "from matplotlib import animation, rc\n",
    "from IPython.display import HTML\n",
    "\n",
    "xs = wavelength\n",
    "\n",
    "# First set up the figure, the axis, and the plot element we want to animate\n",
    "fig = plt.figure()\n",
    "ax = plt.axes(xlim=(xs[0], xs[-1]), ylim=(0, 1.1))\n",
    "\n",
    "line, = ax.plot([], [], lw=2)\n",
    "\n",
    "time_template = 'Gate Delay = %.1fns'\n",
    "time_text = ax.text(0.05, 0.9, '', transform=ax.transAxes)\n",
    "\n",
    "\n",
    "\n",
    "# initialization function: plot the background of each frame\n",
    "def init():\n",
    "    line.set_data([], [])\n",
    "    time_text.set_text('')\n",
    "    ax.set_ylabel(\"Normalized Emission Intensity (a.u.)\")\n",
    "    ax.set_xlabel(\"Wavelength (nm)\") \n",
    "    return line,\n",
    "\n",
    "# animation function.  This is called sequentially\n",
    "def animate(i):\n",
    "    y = df1.iloc[:,i].as_matrix()\n",
    "    y = y/data_peak1.max().max()\n",
    "    line.set_data(xs, y)\n",
    "    time_text.set_text(time_template % time_off[i])\n",
    "    return line, time_text\n",
    "\n",
    "\n",
    "\n",
    "# call the animator.  blit=True means only re-draw the parts that have changed.\n",
    "anim = animation.FuncAnimation(fig, animate, init_func=init,\n",
    "                               frames=len(time_off), interval=247.5, blit=True)\n",
    "\n",
    "\n",
    "#TML(anim.to_html5_video())\n",
    "\n",
    "# equivalent to rcParams['animation.html'] = 'html5'\n",
    "rc('animation', html='html5')\n",
    "\n",
    "anim\n"
   ]
  },
  {
   "cell_type": "code",
   "execution_count": null,
   "metadata": {},
   "outputs": [],
   "source": [
    "print(time_off)"
   ]
  },
  {
   "cell_type": "code",
   "execution_count": null,
   "metadata": {},
   "outputs": [],
   "source": [
    "from mpl_toolkits.mplot3d import Axes3D\n",
    "from matplotlib.collections import PolyCollection\n",
    "from matplotlib import colors as mcolors\n",
    "\n",
    "fig = plt.figure()\n",
    "ax = fig.gca(projection='3d')\n",
    "\n",
    "\n",
    "def cc(arg):\n",
    "    return mcolors.to_rgba(arg, alpha=0.6)\n",
    "\n",
    "xs = wl\n",
    "verts = []\n",
    "zs = time\n",
    "i=0\n",
    "numexposures = len(time)- 1\n",
    "for z in zs:\n",
    "    ys = df1.iloc[:,numexposures-i].as_matrix()\n",
    "    i=i+1\n",
    "    ys[0], ys[-1] = 0, 0\n",
    "    verts.append(list(zip(xs, ys)))\n",
    "    \n",
    "    \n",
    "poly = PolyCollection(verts, facecolors = (1,1,1,0), edgecolors=(0,0,1,0.5))\n",
    "#poly.set_alpha(0.2)\n",
    "#face_color = [0, 0, 0] # alternative: matplotlib.colors.rgb2hex([0.5, 0.5, 1])\n",
    "#poly.set_edgecolor(face_color)\n",
    "ax.add_collection3d(poly, zs=zs, zdir='y')\n",
    "\n",
    "\n",
    "ax.set_xlabel('X')\n",
    "ax.set_xlim3d(xs[0], xs[-1])\n",
    "ax.set_ylabel('Y')\n",
    "ax.set_ylim3d(time[0], time[-1])\n",
    "ax.set_zlabel('Z')\n",
    "ax.set_zlim3d(0, data_peak1.max().max())\n",
    "\n",
    "ax.view_init(20, 300)\n",
    "\n",
    "plt.show()"
   ]
  }
 ],
 "metadata": {
  "kernelspec": {
   "display_name": "Python 3",
   "language": "python",
   "name": "python3"
  },
  "language_info": {
   "codemirror_mode": {
    "name": "ipython",
    "version": 3
   },
   "file_extension": ".py",
   "mimetype": "text/x-python",
   "name": "python",
   "nbconvert_exporter": "python",
   "pygments_lexer": "ipython3",
   "version": "3.6.3"
  }
 },
 "nbformat": 4,
 "nbformat_minor": 2
}
