{
 "cells": [
  {
   "cell_type": "code",
   "execution_count": 1,
   "metadata": {
    "collapsed": true
   },
   "outputs": [],
   "source": [
    "import os\n",
    "import numpy as np\n",
    "import matplotlib as mpl\n",
    "import matplotlib.pyplot as plt\n",
    "import datetime\n",
    "from datetime import timedelta as td\n",
    "import pandas as pd\n",
    "%matplotlib inline\n",
    "import sys\n",
    "\n",
    "#Make sure Python Analysis folder in in PYTHONPATH and import the MHDpy module\n",
    "PythonAnalysisPath = 'C:\\\\Users\\\\aspit\\\\Documents\\\\Git\\\\MHDLab\\\\Python Analysis'\n",
    "if not PythonAnalysisPath in sys.path:\n",
    "    sys.path.append(PythonAnalysisPath)\n",
    "import MHDpy.importing\n",
    "import MHDpy.plotting\n",
    "from nptdms import TdmsFile as TF\n",
    "\n",
    "\n",
    "mpl.rcParams.update({'font.size': 18})"
   ]
  },
  {
   "cell_type": "code",
   "execution_count": 2,
   "metadata": {},
   "outputs": [],
   "source": [
    "###Paths###\n",
    "pathnames = MHDpy.importing.get_pathnames(\"C:\\\\Users\\\\aspit\\\\OneDrive\\\\Data\\\\2018-10-06_cut\\\\Diadem analysis_smooth\", regExp= \".*\\.tdms$\")\n",
    "laserprofile_pathnames= MHDpy.importing.get_pathnames(\"C:\\\\Users\\\\aspit\\\\OneDrive\\\\Data\\\\2017-10-23\")\n",
    "\n",
    "###Files###\n",
    "file1 = TF(pathnames['Together_tdms.tdms'])\n",
    "file2 = TF(pathnames['RawData_770.tdms'])\n",
    "file_laser = TF(laserprofile_pathnames[0])\n",
    "\n",
    "\n",
    "###Groups###\n",
    "Potassium = file1.object('Norm').as_dataframe()\n",
    "Laser =  file1.object('500Hz').as_dataframe() \n",
    "RawData_Frames = file2.object('Frames').as_dataframe()  \n",
    "RawData_extra =  file2.object('Results_770_seed_expt4_500Hz 2017 October 06 14_06_54').as_dataframe() \n",
    "\n",
    "###Channels###\n",
    "K_int_1 = Potassium['Peak1_max_seed_expt4_767_Potassium1'].as_matrix()\n",
    "K_int_2 = Potassium['Peak2_max_seed_expt4_770_Potassium1'].as_matrix()\n",
    "K_time = Potassium['GateTime'].as_matrix()\n",
    "L_int = Laser['Normalized'].as_matrix()\n",
    "L_time = Laser['Time_offset'].as_matrix()\n",
    "spectra = RawData_Frames['I_Frame_1'].as_matrix()\n",
    "spectra_wl = RawData_extra['Wavelength'].as_matrix()\n",
    "spectra_time = RawData_extra['GateTime'].as_matrix()"
   ]
  },
  {
   "cell_type": "code",
   "execution_count": 4,
   "metadata": {
    "collapsed": true
   },
   "outputs": [],
   "source": [
    "offset_time = 815\n",
    "\n",
    "K_time_off = K_time - offset_time\n",
    "L_time_off = L_time - offset_time\n",
    "\n",
    "K_int_1_norm = K_int_1/K_int_1.max()\n",
    "K_int_2_norm = K_int_2/K_int_2.max()\n",
    "L_int_norm = L_int/L_int.max()\n",
    "\n",
    "spectra_time_off = spectra_time - offset_time "
   ]
  },
  {
   "cell_type": "code",
   "execution_count": 5,
   "metadata": {},
   "outputs": [
    {
     "data": {
      "image/png": "iVBORw0KGgoAAAANSUhEUgAAAkMAAAGXCAYAAACwflQ/AAAABHNCSVQICAgIfAhkiAAAAAlwSFlz\nAAALEgAACxIB0t1+/AAAADl0RVh0U29mdHdhcmUAbWF0cGxvdGxpYiB2ZXJzaW9uIDIuMS4wLCBo\ndHRwOi8vbWF0cGxvdGxpYi5vcmcvpW3flQAAIABJREFUeJzs3XmcjXX7wPHPNcPMMJbIFkISSQmF\nFJkQpZSlpx5KREmbHqmelCwtUopSPZjyEPK0oX2xZPSrtCgqocWeyj62YcbMXL8/vueMM/s5x5k5\ns1zv1+t+nbnv+3t/zzVjOJfvKqqKMcYYY0xpFRHuAIwxxhhjwsmSIWOMMcaUapYMGWOMMaZUs2TI\nGGOMMaWaJUPGGGOMKdUsGTLGGGNMqWbJkClVRGSziGiWI0lE1ovIcyJSN9wxhoOIjPX8LMaGO5Zg\niMgsf+IXkQRPuYGe8zM858dEpKYf79PTU/4PEcn276eIdBOReZ7fsyMikigiP4jIU3n9bvn8/PM6\nns3/JwEi0iCX5w+IyDci8m8RicntGX/ew5iSpky4AzAmTD4B/vZ8XQu4ABgG3CAiHVV1zYlULiIJ\nQEfgElVNOJG6TMFR1d9E5EvgQqAfMDmfRwZ4Xueoarr3oojEAnOBnp5LPwJfAzFAW+A+4E4RuUNV\nZ+ZR/wbg81zufZNPbDl5xfMaATQA2gGtgWtFJE5VDwZRpzEljiVDprSa4JukiEgN4APgfCAe9+FY\nmrwAvAbsDncgYTAL9+c9gDySIRE5GbjC5xnv9QjgXaATLpm5XlW/9rkfCdwBTAL+KyKpqjonl7f5\nXFUHBvuNZJW1LhFpCSwDWgEjgQdD9V7GFGfWTWYMoKo7gXs9p+1EpHY44ylsqrpbVderamlMhl4H\njgDnisi5eZTrB5QFvlLVX3yuD8MlQvtwLYFf+z6kqmmqOgW403NpqojUCln0AVDVVRxP+PqEIwZj\niiJLhow57nufr+v53hCRhi