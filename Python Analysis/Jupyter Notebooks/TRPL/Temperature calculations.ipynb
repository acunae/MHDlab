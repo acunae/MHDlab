{
 "cells": [
  {
   "cell_type": "code",
   "execution_count": 10,
   "metadata": {},
   "outputs": [
    {
     "name": "stdout",
     "output_type": "stream",
     "text": [
      "8.088452768325014e-06\n",
      "236783542621.455\n"
     ]
    }
   ],
   "source": [
    "import math\n",
    "\n",
    "a = 4302\n",
    "b = 1.5\n",
    "c = 11.722\n",
    "d = 0\n",
    "\n",
    "T = 330\n",
    "\n",
    "p = 10**(-a/T - b*math.log(T,10) + c + d*T)\n",
    "\n",
    "\n",
    "n = 10**(-a/T - (b+1)*math.log(T,10) + c + d*T + 18.985)\n",
    "\n",
    "print(p)\n",
    "print(n)"
   ]
  }
 ],
 "metadata": {
  "kernelspec": {
   "display_name": "Python 3",
   "language": "python",
   "name": "python3"
  },
  "language_info": {
   "codemirror_mode": {
    "name": "ipython",
    "version": 3
   },
   "file_extension": ".py",
   "mimetype": "text/x-python",
   "name": "python",
   "nbconvert_exporter": "python",
   "pygments_lexer": "ipython3",
   "version": "3.6.3"
  }
 },
 "nbformat": 4,
 "nbformat_minor": 2
}
